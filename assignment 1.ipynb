{
 "cells": [
  {
   "cell_type": "code",
   "execution_count": 2,
   "id": "ebf85819",
   "metadata": {},
   "outputs": [
    {
     "name": "stdout",
     "output_type": "stream",
     "text": [
      "Twinkle,twinkle,little star,\n",
      "   How I Wonder what you are!\n",
      "      Up above the world so high,\n",
      "      Like a diamond in the sky.\n",
      "Twinkle,twinkle,little star,\n",
      "   How I Wonder what you are\n"
     ]
    }
   ],
   "source": [
    "a=(\"Twinkle,twinkle,little star,\");\n",
    "b=(\"   How I Wonder what you are!\");\n",
    "c=(\"      Up above the world so high,\");\n",
    "d=(\"      Like a diamond in the sky.\");\n",
    "e=(\"Twinkle,twinkle,little star,\");\n",
    "f=(\"   How I Wonder what you are\");\n",
    "print(a)\n",
    "print(b)\n",
    "print(c)\n",
    "print(d)\n",
    "print(e)\n",
    "print(f)\n"
   ]
  },
  {
   "cell_type": "code",
   "execution_count": 30,
   "id": "c7e72d69",
   "metadata": {},
   "outputs": [
    {
     "name": "stdout",
     "output_type": "stream",
     "text": [
      "3.8.8\n"
     ]
    }
   ],
   "source": [
    "from platform import python_version;\n",
    "print(python_version());"
   ]
  },
  {
   "cell_type": "code",
   "execution_count": 28,
   "id": "b7ad07ab",
   "metadata": {},
   "outputs": [
    {
     "name": "stdout",
     "output_type": "stream",
     "text": [
      "Ali Baber\n"
     ]
    }
   ],
   "source": [
    "x=\"Baber\";\n",
    "y=\"Ali \";\n",
    "print(y+x)"
   ]
  },
  {
   "cell_type": "code",
   "execution_count": 29,
   "id": "fd6e1ec9",
   "metadata": {},
   "outputs": [
    {
     "name": "stdout",
     "output_type": "stream",
     "text": [
      "33\n"
     ]
    }
   ],
   "source": [
    "x=12;\n",
    "y=21;\n",
    "print(x+y)"
   ]
  },
  {
   "cell_type": "code",
   "execution_count": null,
   "id": "a9e8c3cd",
   "metadata": {
    "scrolled": true
   },
   "outputs": [],
   "source": []
  },
  {
   "cell_type": "code",
   "execution_count": null,
   "id": "0cf56a01",
   "metadata": {},
   "outputs": [],
   "source": []
  },
  {
   "cell_type": "code",
   "execution_count": null,
   "id": "4c04d8e8",
   "metadata": {},
   "outputs": [],
   "source": []
  },
  {
   "cell_type": "code",
   "execution_count": null,
   "id": "e6c3ee9e",
   "metadata": {},
   "outputs": [],
   "source": []
  }
 ],
 "metadata": {
  "kernelspec": {
   "display_name": "Python 3",
   "language": "python",
   "name": "python3"
  },
  "language_info": {
   "codemirror_mode": {
    "name": "ipython",
    "version": 3
   },
   "file_extension": ".py",
   "mimetype": "text/x-python",
   "name": "python",
   "nbconvert_exporter": "python",
   "pygments_lexer": "ipython3",
   "version": "3.8.8"
  }
 },
 "nbformat": 4,
 "nbformat_minor": 5
}
